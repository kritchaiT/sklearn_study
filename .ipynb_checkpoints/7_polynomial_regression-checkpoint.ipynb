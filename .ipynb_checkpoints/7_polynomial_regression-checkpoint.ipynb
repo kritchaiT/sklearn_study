{
 "cells": [
  {
   "cell_type": "code",
   "execution_count": 145,
   "id": "38a27bf5",
   "metadata": {},
   "outputs": [
    {
     "name": "stdout",
     "output_type": "stream",
     "text": [
      "3.7.2\n"
     ]
    }
   ],
   "source": [
    "import pandas as pd\n",
    "import numpy as np\n",
    "import seaborn as sns\n",
    "import matplotlib\n",
    "import matplotlib.pyplot as plt\n",
    "%config InlineBackend.figure_formay='retina'\n",
    "print(matplotlib.__version__)"
   ]
  },
  {
   "cell_type": "code",
   "execution_count": 146,
   "id": "06891455",
   "metadata": {},
   "outputs": [
    {
     "name": "stdout",
     "output_type": "stream",
     "text": [
      "2024-01-05 14:30:00.464673\n"
     ]
    }
   ],
   "source": [
    "print(pd.Timestamp.now()) # printing the day running this program"
   ]
  },
  {
   "cell_type": "code",
   "execution_count": 147,
   "id": "9dcc17e5",
   "metadata": {},
   "outputs": [
    {
     "data": {
      "text/html": [
       "<div>\n",
       "<style scoped>\n",
       "    .dataframe tbody tr th:only-of-type {\n",
       "        vertical-align: middle;\n",
       "    }\n",
       "\n",
       "    .dataframe tbody tr th {\n",
       "        vertical-align: top;\n",
       "    }\n",
       "\n",
       "    .dataframe thead th {\n",
       "        text-align: right;\n",
       "    }\n",
       "</style>\n",
       "<table border=\"1\" class=\"dataframe\">\n",
       "  <thead>\n",
       "    <tr style=\"text-align: right;\">\n",
       "      <th></th>\n",
       "      <th>country</th>\n",
       "      <th>year</th>\n",
       "      <th>GDP, PPP (current international $)</th>\n",
       "      <th>Gini index (World Bank estimate)</th>\n",
       "      <th>Birth rate, crude (per 1,000 people)</th>\n",
       "      <th>Death rate, crude (per 1,000 people)</th>\n",
       "      <th>Suicide mortality rate (per 100,000 population)</th>\n",
       "    </tr>\n",
       "  </thead>\n",
       "  <tbody>\n",
       "    <tr>\n",
       "      <th>6210</th>\n",
       "      <td>IDA blend</td>\n",
       "      <td>1975</td>\n",
       "      <td>NaN</td>\n",
       "      <td>NaN</td>\n",
       "      <td>44.494955</td>\n",
       "      <td>16.094039</td>\n",
       "      <td>NaN</td>\n",
       "    </tr>\n",
       "    <tr>\n",
       "      <th>4537</th>\n",
       "      <td>European Union</td>\n",
       "      <td>2013</td>\n",
       "      <td>1.596476e+13</td>\n",
       "      <td>NaN</td>\n",
       "      <td>9.748572</td>\n",
       "      <td>10.010462</td>\n",
       "      <td>NaN</td>\n",
       "    </tr>\n",
       "    <tr>\n",
       "      <th>4819</th>\n",
       "      <td>France</td>\n",
       "      <td>2000</td>\n",
       "      <td>1.589840e+12</td>\n",
       "      <td>31.1</td>\n",
       "      <td>13.300000</td>\n",
       "      <td>8.900000</td>\n",
       "      <td>22.3</td>\n",
       "    </tr>\n",
       "    <tr>\n",
       "      <th>10545</th>\n",
       "      <td>North Macedonia</td>\n",
       "      <td>2003</td>\n",
       "      <td>1.335288e+10</td>\n",
       "      <td>NaN</td>\n",
       "      <td>12.125000</td>\n",
       "      <td>8.595000</td>\n",
       "      <td>NaN</td>\n",
       "    </tr>\n",
       "    <tr>\n",
       "      <th>3556</th>\n",
       "      <td>Early-demographic dividend</td>\n",
       "      <td>1976</td>\n",
       "      <td>NaN</td>\n",
       "      <td>NaN</td>\n",
       "      <td>38.587771</td>\n",
       "      <td>13.716784</td>\n",
       "      <td>NaN</td>\n",
       "    </tr>\n",
       "    <tr>\n",
       "      <th>10405</th>\n",
       "      <td>Nigeria</td>\n",
       "      <td>1981</td>\n",
       "      <td>NaN</td>\n",
       "      <td>NaN</td>\n",
       "      <td>46.741000</td>\n",
       "      <td>19.149000</td>\n",
       "      <td>NaN</td>\n",
       "    </tr>\n",
       "    <tr>\n",
       "      <th>1222</th>\n",
       "      <td>Belize</td>\n",
       "      <td>2002</td>\n",
       "      <td>1.564625e+09</td>\n",
       "      <td>NaN</td>\n",
       "      <td>28.620000</td>\n",
       "      <td>5.476000</td>\n",
       "      <td>NaN</td>\n",
       "    </tr>\n",
       "    <tr>\n",
       "      <th>6932</th>\n",
       "      <td>Jamaica</td>\n",
       "      <td>1989</td>\n",
       "      <td>NaN</td>\n",
       "      <td>NaN</td>\n",
       "      <td>25.735000</td>\n",
       "      <td>6.699000</td>\n",
       "      <td>NaN</td>\n",
       "    </tr>\n",
       "    <tr>\n",
       "      <th>5467</th>\n",
       "      <td>Guam</td>\n",
       "      <td>1999</td>\n",
       "      <td>NaN</td>\n",
       "      <td>NaN</td>\n",
       "      <td>22.343000</td>\n",
       "      <td>4.534000</td>\n",
       "      <td>NaN</td>\n",
       "    </tr>\n",
       "    <tr>\n",
       "      <th>6770</th>\n",
       "      <td>Isle of Man</td>\n",
       "      <td>2004</td>\n",
       "      <td>NaN</td>\n",
       "      <td>NaN</td>\n",
       "      <td>NaN</td>\n",
       "      <td>NaN</td>\n",
       "      <td>NaN</td>\n",
       "    </tr>\n",
       "  </tbody>\n",
       "</table>\n",
       "</div>"
      ],
      "text/plain": [
       "                          country  year  GDP, PPP (current international $)  \\\n",
       "6210                    IDA blend  1975                                 NaN   \n",
       "4537               European Union  2013                        1.596476e+13   \n",
       "4819                       France  2000                        1.589840e+12   \n",
       "10545             North Macedonia  2003                        1.335288e+10   \n",
       "3556   Early-demographic dividend  1976                                 NaN   \n",
       "10405                     Nigeria  1981                                 NaN   \n",
       "1222                       Belize  2002                        1.564625e+09   \n",
       "6932                      Jamaica  1989                                 NaN   \n",
       "5467                         Guam  1999                                 NaN   \n",
       "6770                  Isle of Man  2004                                 NaN   \n",
       "\n",
       "       Gini index (World Bank estimate)  Birth rate, crude (per 1,000 people)  \\\n",
       "6210                                NaN                             44.494955   \n",
       "4537                                NaN                              9.748572   \n",
       "4819                               31.1                             13.300000   \n",
       "10545                               NaN                             12.125000   \n",
       "3556                                NaN                             38.587771   \n",
       "10405                               NaN                             46.741000   \n",
       "1222                                NaN                             28.620000   \n",
       "6932                                NaN                             25.735000   \n",
       "5467                                NaN                             22.343000   \n",
       "6770                                NaN                                   NaN   \n",
       "\n",
       "       Death rate, crude (per 1,000 people)  \\\n",
       "6210                              16.094039   \n",
       "4537                              10.010462   \n",
       "4819                               8.900000   \n",
       "10545                              8.595000   \n",
       "3556                              13.716784   \n",
       "10405                             19.149000   \n",
       "1222                               5.476000   \n",
       "6932                               6.699000   \n",
       "5467                               4.534000   \n",
       "6770                                    NaN   \n",
       "\n",
       "       Suicide mortality rate (per 100,000 population)  \n",
       "6210                                               NaN  \n",
       "4537                                               NaN  \n",
       "4819                                              22.3  \n",
       "10545                                              NaN  \n",
       "3556                                               NaN  \n",
       "10405                                              NaN  \n",
       "1222                                               NaN  \n",
       "6932                                               NaN  \n",
       "5467                                               NaN  \n",
       "6770                                               NaN  "
      ]
     },
     "execution_count": 147,
     "metadata": {},
     "output_type": "execute_result"
    }
   ],
   "source": [
    "url = 'https://github.com/prasertcbs/basic-dataset/raw/master/worldbank_gdp_gini_birth_death_suicide_rate.csv'\n",
    "data = pd.read_csv(url)\n",
    "data.sample(10)"
   ]
  },
  {
   "cell_type": "code",
   "execution_count": 148,
   "id": "0a39e9a7",
   "metadata": {},
   "outputs": [
    {
     "name": "stdout",
     "output_type": "stream",
     "text": [
      "<class 'pandas.core.frame.DataFrame'>\n",
      "RangeIndex: 15576 entries, 0 to 15575\n",
      "Data columns (total 7 columns):\n",
      " #   Column                                           Non-Null Count  Dtype  \n",
      "---  ------                                           --------------  -----  \n",
      " 0   country                                          15576 non-null  object \n",
      " 1   year                                             15576 non-null  int64  \n",
      " 2   GDP, PPP (current international $)               6726 non-null   float64\n",
      " 3   Gini index (World Bank estimate)                 1649 non-null   float64\n",
      " 4   Birth rate, crude (per 1,000 people)             14515 non-null  float64\n",
      " 5   Death rate, crude (per 1,000 people)             14492 non-null  float64\n",
      " 6   Suicide mortality rate (per 100,000 population)  1145 non-null   float64\n",
      "dtypes: float64(5), int64(1), object(1)\n",
      "memory usage: 851.9+ KB\n"
     ]
    }
   ],
   "source": [
    "data.info()"
   ]
  },
  {
   "cell_type": "markdown",
   "id": "6c15a361",
   "metadata": {},
   "source": [
    "## 1.1 filter and visualize country data"
   ]
  },
  {
   "cell_type": "code",
   "execution_count": 149,
   "id": "b2189ae0",
   "metadata": {},
   "outputs": [],
   "source": [
    "x_col = 'year'\n",
    "y_col = 'Death rate, crude (per 1,000 people)'\n",
    "country = 'Thailand'"
   ]
  },
  {
   "cell_type": "code",
   "execution_count": 150,
   "id": "e3e21c63",
   "metadata": {},
   "outputs": [
    {
     "data": {
      "text/html": [
       "<div>\n",
       "<style scoped>\n",
       "    .dataframe tbody tr th:only-of-type {\n",
       "        vertical-align: middle;\n",
       "    }\n",
       "\n",
       "    .dataframe tbody tr th {\n",
       "        vertical-align: top;\n",
       "    }\n",
       "\n",
       "    .dataframe thead th {\n",
       "        text-align: right;\n",
       "    }\n",
       "</style>\n",
       "<table border=\"1\" class=\"dataframe\">\n",
       "  <thead>\n",
       "    <tr style=\"text-align: right;\">\n",
       "      <th></th>\n",
       "      <th>country</th>\n",
       "      <th>year</th>\n",
       "      <th>GDP, PPP (current international $)</th>\n",
       "      <th>Gini index (World Bank estimate)</th>\n",
       "      <th>Birth rate, crude (per 1,000 people)</th>\n",
       "      <th>Death rate, crude (per 1,000 people)</th>\n",
       "      <th>Suicide mortality rate (per 100,000 population)</th>\n",
       "    </tr>\n",
       "  </thead>\n",
       "  <tbody>\n",
       "    <tr>\n",
       "      <th>13983</th>\n",
       "      <td>Thailand</td>\n",
       "      <td>1960</td>\n",
       "      <td>NaN</td>\n",
       "      <td>NaN</td>\n",
       "      <td>42.735</td>\n",
       "      <td>13.180</td>\n",
       "      <td>NaN</td>\n",
       "    </tr>\n",
       "    <tr>\n",
       "      <th>13984</th>\n",
       "      <td>Thailand</td>\n",
       "      <td>1961</td>\n",
       "      <td>NaN</td>\n",
       "      <td>NaN</td>\n",
       "      <td>42.617</td>\n",
       "      <td>12.853</td>\n",
       "      <td>NaN</td>\n",
       "    </tr>\n",
       "    <tr>\n",
       "      <th>13985</th>\n",
       "      <td>Thailand</td>\n",
       "      <td>1962</td>\n",
       "      <td>NaN</td>\n",
       "      <td>NaN</td>\n",
       "      <td>42.469</td>\n",
       "      <td>12.534</td>\n",
       "      <td>NaN</td>\n",
       "    </tr>\n",
       "    <tr>\n",
       "      <th>13986</th>\n",
       "      <td>Thailand</td>\n",
       "      <td>1963</td>\n",
       "      <td>NaN</td>\n",
       "      <td>NaN</td>\n",
       "      <td>42.283</td>\n",
       "      <td>12.226</td>\n",
       "      <td>NaN</td>\n",
       "    </tr>\n",
       "    <tr>\n",
       "      <th>13987</th>\n",
       "      <td>Thailand</td>\n",
       "      <td>1964</td>\n",
       "      <td>NaN</td>\n",
       "      <td>NaN</td>\n",
       "      <td>42.041</td>\n",
       "      <td>11.929</td>\n",
       "      <td>NaN</td>\n",
       "    </tr>\n",
       "    <tr>\n",
       "      <th>13988</th>\n",
       "      <td>Thailand</td>\n",
       "      <td>1965</td>\n",
       "      <td>NaN</td>\n",
       "      <td>NaN</td>\n",
       "      <td>41.708</td>\n",
       "      <td>11.639</td>\n",
       "      <td>NaN</td>\n",
       "    </tr>\n",
       "    <tr>\n",
       "      <th>13989</th>\n",
       "      <td>Thailand</td>\n",
       "      <td>1966</td>\n",
       "      <td>NaN</td>\n",
       "      <td>NaN</td>\n",
       "      <td>41.244</td>\n",
       "      <td>11.346</td>\n",
       "      <td>NaN</td>\n",
       "    </tr>\n",
       "    <tr>\n",
       "      <th>13990</th>\n",
       "      <td>Thailand</td>\n",
       "      <td>1967</td>\n",
       "      <td>NaN</td>\n",
       "      <td>NaN</td>\n",
       "      <td>40.625</td>\n",
       "      <td>11.046</td>\n",
       "      <td>NaN</td>\n",
       "    </tr>\n",
       "    <tr>\n",
       "      <th>13991</th>\n",
       "      <td>Thailand</td>\n",
       "      <td>1968</td>\n",
       "      <td>NaN</td>\n",
       "      <td>NaN</td>\n",
       "      <td>39.845</td>\n",
       "      <td>10.733</td>\n",
       "      <td>NaN</td>\n",
       "    </tr>\n",
       "    <tr>\n",
       "      <th>13992</th>\n",
       "      <td>Thailand</td>\n",
       "      <td>1969</td>\n",
       "      <td>NaN</td>\n",
       "      <td>NaN</td>\n",
       "      <td>38.912</td>\n",
       "      <td>10.408</td>\n",
       "      <td>NaN</td>\n",
       "    </tr>\n",
       "    <tr>\n",
       "      <th>13993</th>\n",
       "      <td>Thailand</td>\n",
       "      <td>1970</td>\n",
       "      <td>NaN</td>\n",
       "      <td>NaN</td>\n",
       "      <td>37.846</td>\n",
       "      <td>10.072</td>\n",
       "      <td>NaN</td>\n",
       "    </tr>\n",
       "    <tr>\n",
       "      <th>13994</th>\n",
       "      <td>Thailand</td>\n",
       "      <td>1971</td>\n",
       "      <td>NaN</td>\n",
       "      <td>NaN</td>\n",
       "      <td>36.675</td>\n",
       "      <td>9.730</td>\n",
       "      <td>NaN</td>\n",
       "    </tr>\n",
       "    <tr>\n",
       "      <th>13995</th>\n",
       "      <td>Thailand</td>\n",
       "      <td>1972</td>\n",
       "      <td>NaN</td>\n",
       "      <td>NaN</td>\n",
       "      <td>35.448</td>\n",
       "      <td>9.390</td>\n",
       "      <td>NaN</td>\n",
       "    </tr>\n",
       "    <tr>\n",
       "      <th>13996</th>\n",
       "      <td>Thailand</td>\n",
       "      <td>1973</td>\n",
       "      <td>NaN</td>\n",
       "      <td>NaN</td>\n",
       "      <td>34.208</td>\n",
       "      <td>9.059</td>\n",
       "      <td>NaN</td>\n",
       "    </tr>\n",
       "    <tr>\n",
       "      <th>13997</th>\n",
       "      <td>Thailand</td>\n",
       "      <td>1974</td>\n",
       "      <td>NaN</td>\n",
       "      <td>NaN</td>\n",
       "      <td>32.985</td>\n",
       "      <td>8.741</td>\n",
       "      <td>NaN</td>\n",
       "    </tr>\n",
       "    <tr>\n",
       "      <th>13998</th>\n",
       "      <td>Thailand</td>\n",
       "      <td>1975</td>\n",
       "      <td>NaN</td>\n",
       "      <td>NaN</td>\n",
       "      <td>31.798</td>\n",
       "      <td>8.443</td>\n",
       "      <td>NaN</td>\n",
       "    </tr>\n",
       "    <tr>\n",
       "      <th>13999</th>\n",
       "      <td>Thailand</td>\n",
       "      <td>1976</td>\n",
       "      <td>NaN</td>\n",
       "      <td>NaN</td>\n",
       "      <td>30.657</td>\n",
       "      <td>8.171</td>\n",
       "      <td>NaN</td>\n",
       "    </tr>\n",
       "    <tr>\n",
       "      <th>14000</th>\n",
       "      <td>Thailand</td>\n",
       "      <td>1977</td>\n",
       "      <td>NaN</td>\n",
       "      <td>NaN</td>\n",
       "      <td>29.552</td>\n",
       "      <td>7.924</td>\n",
       "      <td>NaN</td>\n",
       "    </tr>\n",
       "    <tr>\n",
       "      <th>14001</th>\n",
       "      <td>Thailand</td>\n",
       "      <td>1978</td>\n",
       "      <td>NaN</td>\n",
       "      <td>NaN</td>\n",
       "      <td>28.479</td>\n",
       "      <td>7.698</td>\n",
       "      <td>NaN</td>\n",
       "    </tr>\n",
       "    <tr>\n",
       "      <th>14002</th>\n",
       "      <td>Thailand</td>\n",
       "      <td>1979</td>\n",
       "      <td>NaN</td>\n",
       "      <td>NaN</td>\n",
       "      <td>27.444</td>\n",
       "      <td>7.490</td>\n",
       "      <td>NaN</td>\n",
       "    </tr>\n",
       "    <tr>\n",
       "      <th>14003</th>\n",
       "      <td>Thailand</td>\n",
       "      <td>1980</td>\n",
       "      <td>NaN</td>\n",
       "      <td>NaN</td>\n",
       "      <td>26.450</td>\n",
       "      <td>7.289</td>\n",
       "      <td>NaN</td>\n",
       "    </tr>\n",
       "    <tr>\n",
       "      <th>14004</th>\n",
       "      <td>Thailand</td>\n",
       "      <td>1981</td>\n",
       "      <td>NaN</td>\n",
       "      <td>45.2</td>\n",
       "      <td>25.500</td>\n",
       "      <td>7.080</td>\n",
       "      <td>NaN</td>\n",
       "    </tr>\n",
       "    <tr>\n",
       "      <th>14005</th>\n",
       "      <td>Thailand</td>\n",
       "      <td>1982</td>\n",
       "      <td>NaN</td>\n",
       "      <td>NaN</td>\n",
       "      <td>24.591</td>\n",
       "      <td>6.855</td>\n",
       "      <td>NaN</td>\n",
       "    </tr>\n",
       "    <tr>\n",
       "      <th>14006</th>\n",
       "      <td>Thailand</td>\n",
       "      <td>1983</td>\n",
       "      <td>NaN</td>\n",
       "      <td>NaN</td>\n",
       "      <td>23.723</td>\n",
       "      <td>6.615</td>\n",
       "      <td>NaN</td>\n",
       "    </tr>\n",
       "    <tr>\n",
       "      <th>14007</th>\n",
       "      <td>Thailand</td>\n",
       "      <td>1984</td>\n",
       "      <td>NaN</td>\n",
       "      <td>NaN</td>\n",
       "      <td>22.901</td>\n",
       "      <td>6.367</td>\n",
       "      <td>NaN</td>\n",
       "    </tr>\n",
       "    <tr>\n",
       "      <th>14008</th>\n",
       "      <td>Thailand</td>\n",
       "      <td>1985</td>\n",
       "      <td>NaN</td>\n",
       "      <td>NaN</td>\n",
       "      <td>22.133</td>\n",
       "      <td>6.129</td>\n",
       "      <td>NaN</td>\n",
       "    </tr>\n",
       "    <tr>\n",
       "      <th>14009</th>\n",
       "      <td>Thailand</td>\n",
       "      <td>1986</td>\n",
       "      <td>NaN</td>\n",
       "      <td>NaN</td>\n",
       "      <td>21.431</td>\n",
       "      <td>5.923</td>\n",
       "      <td>NaN</td>\n",
       "    </tr>\n",
       "    <tr>\n",
       "      <th>14010</th>\n",
       "      <td>Thailand</td>\n",
       "      <td>1987</td>\n",
       "      <td>NaN</td>\n",
       "      <td>NaN</td>\n",
       "      <td>20.794</td>\n",
       "      <td>5.770</td>\n",
       "      <td>NaN</td>\n",
       "    </tr>\n",
       "    <tr>\n",
       "      <th>14011</th>\n",
       "      <td>Thailand</td>\n",
       "      <td>1988</td>\n",
       "      <td>NaN</td>\n",
       "      <td>43.8</td>\n",
       "      <td>20.220</td>\n",
       "      <td>5.682</td>\n",
       "      <td>NaN</td>\n",
       "    </tr>\n",
       "    <tr>\n",
       "      <th>14012</th>\n",
       "      <td>Thailand</td>\n",
       "      <td>1989</td>\n",
       "      <td>NaN</td>\n",
       "      <td>NaN</td>\n",
       "      <td>19.701</td>\n",
       "      <td>5.663</td>\n",
       "      <td>NaN</td>\n",
       "    </tr>\n",
       "    <tr>\n",
       "      <th>14013</th>\n",
       "      <td>Thailand</td>\n",
       "      <td>1990</td>\n",
       "      <td>2.438602e+11</td>\n",
       "      <td>45.3</td>\n",
       "      <td>19.222</td>\n",
       "      <td>5.707</td>\n",
       "      <td>NaN</td>\n",
       "    </tr>\n",
       "    <tr>\n",
       "      <th>14014</th>\n",
       "      <td>Thailand</td>\n",
       "      <td>1991</td>\n",
       "      <td>2.736830e+11</td>\n",
       "      <td>NaN</td>\n",
       "      <td>18.766</td>\n",
       "      <td>5.804</td>\n",
       "      <td>NaN</td>\n",
       "    </tr>\n",
       "    <tr>\n",
       "      <th>14015</th>\n",
       "      <td>Thailand</td>\n",
       "      <td>1992</td>\n",
       "      <td>3.025470e+11</td>\n",
       "      <td>47.9</td>\n",
       "      <td>18.318</td>\n",
       "      <td>5.932</td>\n",
       "      <td>NaN</td>\n",
       "    </tr>\n",
       "    <tr>\n",
       "      <th>14016</th>\n",
       "      <td>Thailand</td>\n",
       "      <td>1993</td>\n",
       "      <td>3.352726e+11</td>\n",
       "      <td>NaN</td>\n",
       "      <td>17.863</td>\n",
       "      <td>6.071</td>\n",
       "      <td>NaN</td>\n",
       "    </tr>\n",
       "    <tr>\n",
       "      <th>14017</th>\n",
       "      <td>Thailand</td>\n",
       "      <td>1994</td>\n",
       "      <td>3.698163e+11</td>\n",
       "      <td>43.5</td>\n",
       "      <td>17.396</td>\n",
       "      <td>6.211</td>\n",
       "      <td>NaN</td>\n",
       "    </tr>\n",
       "    <tr>\n",
       "      <th>14018</th>\n",
       "      <td>Thailand</td>\n",
       "      <td>1995</td>\n",
       "      <td>4.082306e+11</td>\n",
       "      <td>NaN</td>\n",
       "      <td>16.913</td>\n",
       "      <td>6.344</td>\n",
       "      <td>NaN</td>\n",
       "    </tr>\n",
       "    <tr>\n",
       "      <th>14019</th>\n",
       "      <td>Thailand</td>\n",
       "      <td>1996</td>\n",
       "      <td>4.392009e+11</td>\n",
       "      <td>42.9</td>\n",
       "      <td>16.417</td>\n",
       "      <td>6.465</td>\n",
       "      <td>NaN</td>\n",
       "    </tr>\n",
       "    <tr>\n",
       "      <th>14020</th>\n",
       "      <td>Thailand</td>\n",
       "      <td>1997</td>\n",
       "      <td>4.344722e+11</td>\n",
       "      <td>NaN</td>\n",
       "      <td>15.920</td>\n",
       "      <td>6.580</td>\n",
       "      <td>NaN</td>\n",
       "    </tr>\n",
       "    <tr>\n",
       "      <th>14021</th>\n",
       "      <td>Thailand</td>\n",
       "      <td>1998</td>\n",
       "      <td>4.058212e+11</td>\n",
       "      <td>41.5</td>\n",
       "      <td>15.433</td>\n",
       "      <td>6.688</td>\n",
       "      <td>NaN</td>\n",
       "    </tr>\n",
       "    <tr>\n",
       "      <th>14022</th>\n",
       "      <td>Thailand</td>\n",
       "      <td>1999</td>\n",
       "      <td>4.305037e+11</td>\n",
       "      <td>43.1</td>\n",
       "      <td>14.965</td>\n",
       "      <td>6.788</td>\n",
       "      <td>NaN</td>\n",
       "    </tr>\n",
       "    <tr>\n",
       "      <th>14023</th>\n",
       "      <td>Thailand</td>\n",
       "      <td>2000</td>\n",
       "      <td>4.597363e+11</td>\n",
       "      <td>42.8</td>\n",
       "      <td>14.524</td>\n",
       "      <td>6.877</td>\n",
       "      <td>16.2</td>\n",
       "    </tr>\n",
       "    <tr>\n",
       "      <th>14024</th>\n",
       "      <td>Thailand</td>\n",
       "      <td>2001</td>\n",
       "      <td>4.860021e+11</td>\n",
       "      <td>NaN</td>\n",
       "      <td>14.118</td>\n",
       "      <td>6.951</td>\n",
       "      <td>NaN</td>\n",
       "    </tr>\n",
       "    <tr>\n",
       "      <th>14025</th>\n",
       "      <td>Thailand</td>\n",
       "      <td>2002</td>\n",
       "      <td>5.240466e+11</td>\n",
       "      <td>41.9</td>\n",
       "      <td>13.751</td>\n",
       "      <td>7.012</td>\n",
       "      <td>NaN</td>\n",
       "    </tr>\n",
       "    <tr>\n",
       "      <th>14026</th>\n",
       "      <td>Thailand</td>\n",
       "      <td>2003</td>\n",
       "      <td>5.721533e+11</td>\n",
       "      <td>NaN</td>\n",
       "      <td>13.423</td>\n",
       "      <td>7.060</td>\n",
       "      <td>NaN</td>\n",
       "    </tr>\n",
       "    <tr>\n",
       "      <th>14027</th>\n",
       "      <td>Thailand</td>\n",
       "      <td>2004</td>\n",
       "      <td>6.245103e+11</td>\n",
       "      <td>42.5</td>\n",
       "      <td>13.131</td>\n",
       "      <td>7.097</td>\n",
       "      <td>NaN</td>\n",
       "    </tr>\n",
       "    <tr>\n",
       "      <th>14028</th>\n",
       "      <td>Thailand</td>\n",
       "      <td>2005</td>\n",
       "      <td>6.709303e+11</td>\n",
       "      <td>NaN</td>\n",
       "      <td>12.870</td>\n",
       "      <td>7.123</td>\n",
       "      <td>12.7</td>\n",
       "    </tr>\n",
       "    <tr>\n",
       "      <th>14029</th>\n",
       "      <td>Thailand</td>\n",
       "      <td>2006</td>\n",
       "      <td>7.255733e+11</td>\n",
       "      <td>41.8</td>\n",
       "      <td>12.632</td>\n",
       "      <td>7.141</td>\n",
       "      <td>NaN</td>\n",
       "    </tr>\n",
       "    <tr>\n",
       "      <th>14030</th>\n",
       "      <td>Thailand</td>\n",
       "      <td>2007</td>\n",
       "      <td>7.855596e+11</td>\n",
       "      <td>39.8</td>\n",
       "      <td>12.407</td>\n",
       "      <td>7.154</td>\n",
       "      <td>NaN</td>\n",
       "    </tr>\n",
       "    <tr>\n",
       "      <th>14031</th>\n",
       "      <td>Thailand</td>\n",
       "      <td>2008</td>\n",
       "      <td>8.146598e+11</td>\n",
       "      <td>40.3</td>\n",
       "      <td>12.188</td>\n",
       "      <td>7.164</td>\n",
       "      <td>NaN</td>\n",
       "    </tr>\n",
       "    <tr>\n",
       "      <th>14032</th>\n",
       "      <td>Thailand</td>\n",
       "      <td>2009</td>\n",
       "      <td>8.152013e+11</td>\n",
       "      <td>39.6</td>\n",
       "      <td>11.971</td>\n",
       "      <td>7.175</td>\n",
       "      <td>NaN</td>\n",
       "    </tr>\n",
       "    <tr>\n",
       "      <th>14033</th>\n",
       "      <td>Thailand</td>\n",
       "      <td>2010</td>\n",
       "      <td>8.866634e+11</td>\n",
       "      <td>39.4</td>\n",
       "      <td>11.757</td>\n",
       "      <td>7.191</td>\n",
       "      <td>14.3</td>\n",
       "    </tr>\n",
       "    <tr>\n",
       "      <th>14034</th>\n",
       "      <td>Thailand</td>\n",
       "      <td>2011</td>\n",
       "      <td>9.127897e+11</td>\n",
       "      <td>37.5</td>\n",
       "      <td>11.548</td>\n",
       "      <td>7.213</td>\n",
       "      <td>NaN</td>\n",
       "    </tr>\n",
       "    <tr>\n",
       "      <th>14035</th>\n",
       "      <td>Thailand</td>\n",
       "      <td>2012</td>\n",
       "      <td>1.008787e+12</td>\n",
       "      <td>39.3</td>\n",
       "      <td>11.351</td>\n",
       "      <td>7.241</td>\n",
       "      <td>NaN</td>\n",
       "    </tr>\n",
       "    <tr>\n",
       "      <th>14036</th>\n",
       "      <td>Thailand</td>\n",
       "      <td>2013</td>\n",
       "      <td>1.049948e+12</td>\n",
       "      <td>37.8</td>\n",
       "      <td>11.169</td>\n",
       "      <td>7.279</td>\n",
       "      <td>NaN</td>\n",
       "    </tr>\n",
       "    <tr>\n",
       "      <th>14037</th>\n",
       "      <td>Thailand</td>\n",
       "      <td>2014</td>\n",
       "      <td>1.059446e+12</td>\n",
       "      <td>37.0</td>\n",
       "      <td>10.999</td>\n",
       "      <td>7.327</td>\n",
       "      <td>NaN</td>\n",
       "    </tr>\n",
       "    <tr>\n",
       "      <th>14038</th>\n",
       "      <td>Thailand</td>\n",
       "      <td>2015</td>\n",
       "      <td>1.087225e+12</td>\n",
       "      <td>36.0</td>\n",
       "      <td>10.836</td>\n",
       "      <td>7.389</td>\n",
       "      <td>14.6</td>\n",
       "    </tr>\n",
       "    <tr>\n",
       "      <th>14039</th>\n",
       "      <td>Thailand</td>\n",
       "      <td>2016</td>\n",
       "      <td>1.146218e+12</td>\n",
       "      <td>36.9</td>\n",
       "      <td>10.676</td>\n",
       "      <td>7.467</td>\n",
       "      <td>14.4</td>\n",
       "    </tr>\n",
       "    <tr>\n",
       "      <th>14040</th>\n",
       "      <td>Thailand</td>\n",
       "      <td>2017</td>\n",
       "      <td>1.205675e+12</td>\n",
       "      <td>36.5</td>\n",
       "      <td>10.513</td>\n",
       "      <td>7.559</td>\n",
       "      <td>NaN</td>\n",
       "    </tr>\n",
       "    <tr>\n",
       "      <th>14041</th>\n",
       "      <td>Thailand</td>\n",
       "      <td>2018</td>\n",
       "      <td>1.286309e+12</td>\n",
       "      <td>36.4</td>\n",
       "      <td>10.344</td>\n",
       "      <td>7.666</td>\n",
       "      <td>NaN</td>\n",
       "    </tr>\n",
       "  </tbody>\n",
       "</table>\n",
       "</div>"
      ],
      "text/plain": [
       "        country  year  GDP, PPP (current international $)  \\\n",
       "13983  Thailand  1960                                 NaN   \n",
       "13984  Thailand  1961                                 NaN   \n",
       "13985  Thailand  1962                                 NaN   \n",
       "13986  Thailand  1963                                 NaN   \n",
       "13987  Thailand  1964                                 NaN   \n",
       "13988  Thailand  1965                                 NaN   \n",
       "13989  Thailand  1966                                 NaN   \n",
       "13990  Thailand  1967                                 NaN   \n",
       "13991  Thailand  1968                                 NaN   \n",
       "13992  Thailand  1969                                 NaN   \n",
       "13993  Thailand  1970                                 NaN   \n",
       "13994  Thailand  1971                                 NaN   \n",
       "13995  Thailand  1972                                 NaN   \n",
       "13996  Thailand  1973                                 NaN   \n",
       "13997  Thailand  1974                                 NaN   \n",
       "13998  Thailand  1975                                 NaN   \n",
       "13999  Thailand  1976                                 NaN   \n",
       "14000  Thailand  1977                                 NaN   \n",
       "14001  Thailand  1978                                 NaN   \n",
       "14002  Thailand  1979                                 NaN   \n",
       "14003  Thailand  1980                                 NaN   \n",
       "14004  Thailand  1981                                 NaN   \n",
       "14005  Thailand  1982                                 NaN   \n",
       "14006  Thailand  1983                                 NaN   \n",
       "14007  Thailand  1984                                 NaN   \n",
       "14008  Thailand  1985                                 NaN   \n",
       "14009  Thailand  1986                                 NaN   \n",
       "14010  Thailand  1987                                 NaN   \n",
       "14011  Thailand  1988                                 NaN   \n",
       "14012  Thailand  1989                                 NaN   \n",
       "14013  Thailand  1990                        2.438602e+11   \n",
       "14014  Thailand  1991                        2.736830e+11   \n",
       "14015  Thailand  1992                        3.025470e+11   \n",
       "14016  Thailand  1993                        3.352726e+11   \n",
       "14017  Thailand  1994                        3.698163e+11   \n",
       "14018  Thailand  1995                        4.082306e+11   \n",
       "14019  Thailand  1996                        4.392009e+11   \n",
       "14020  Thailand  1997                        4.344722e+11   \n",
       "14021  Thailand  1998                        4.058212e+11   \n",
       "14022  Thailand  1999                        4.305037e+11   \n",
       "14023  Thailand  2000                        4.597363e+11   \n",
       "14024  Thailand  2001                        4.860021e+11   \n",
       "14025  Thailand  2002                        5.240466e+11   \n",
       "14026  Thailand  2003                        5.721533e+11   \n",
       "14027  Thailand  2004                        6.245103e+11   \n",
       "14028  Thailand  2005                        6.709303e+11   \n",
       "14029  Thailand  2006                        7.255733e+11   \n",
       "14030  Thailand  2007                        7.855596e+11   \n",
       "14031  Thailand  2008                        8.146598e+11   \n",
       "14032  Thailand  2009                        8.152013e+11   \n",
       "14033  Thailand  2010                        8.866634e+11   \n",
       "14034  Thailand  2011                        9.127897e+11   \n",
       "14035  Thailand  2012                        1.008787e+12   \n",
       "14036  Thailand  2013                        1.049948e+12   \n",
       "14037  Thailand  2014                        1.059446e+12   \n",
       "14038  Thailand  2015                        1.087225e+12   \n",
       "14039  Thailand  2016                        1.146218e+12   \n",
       "14040  Thailand  2017                        1.205675e+12   \n",
       "14041  Thailand  2018                        1.286309e+12   \n",
       "\n",
       "       Gini index (World Bank estimate)  Birth rate, crude (per 1,000 people)  \\\n",
       "13983                               NaN                                42.735   \n",
       "13984                               NaN                                42.617   \n",
       "13985                               NaN                                42.469   \n",
       "13986                               NaN                                42.283   \n",
       "13987                               NaN                                42.041   \n",
       "13988                               NaN                                41.708   \n",
       "13989                               NaN                                41.244   \n",
       "13990                               NaN                                40.625   \n",
       "13991                               NaN                                39.845   \n",
       "13992                               NaN                                38.912   \n",
       "13993                               NaN                                37.846   \n",
       "13994                               NaN                                36.675   \n",
       "13995                               NaN                                35.448   \n",
       "13996                               NaN                                34.208   \n",
       "13997                               NaN                                32.985   \n",
       "13998                               NaN                                31.798   \n",
       "13999                               NaN                                30.657   \n",
       "14000                               NaN                                29.552   \n",
       "14001                               NaN                                28.479   \n",
       "14002                               NaN                                27.444   \n",
       "14003                               NaN                                26.450   \n",
       "14004                              45.2                                25.500   \n",
       "14005                               NaN                                24.591   \n",
       "14006                               NaN                                23.723   \n",
       "14007                               NaN                                22.901   \n",
       "14008                               NaN                                22.133   \n",
       "14009                               NaN                                21.431   \n",
       "14010                               NaN                                20.794   \n",
       "14011                              43.8                                20.220   \n",
       "14012                               NaN                                19.701   \n",
       "14013                              45.3                                19.222   \n",
       "14014                               NaN                                18.766   \n",
       "14015                              47.9                                18.318   \n",
       "14016                               NaN                                17.863   \n",
       "14017                              43.5                                17.396   \n",
       "14018                               NaN                                16.913   \n",
       "14019                              42.9                                16.417   \n",
       "14020                               NaN                                15.920   \n",
       "14021                              41.5                                15.433   \n",
       "14022                              43.1                                14.965   \n",
       "14023                              42.8                                14.524   \n",
       "14024                               NaN                                14.118   \n",
       "14025                              41.9                                13.751   \n",
       "14026                               NaN                                13.423   \n",
       "14027                              42.5                                13.131   \n",
       "14028                               NaN                                12.870   \n",
       "14029                              41.8                                12.632   \n",
       "14030                              39.8                                12.407   \n",
       "14031                              40.3                                12.188   \n",
       "14032                              39.6                                11.971   \n",
       "14033                              39.4                                11.757   \n",
       "14034                              37.5                                11.548   \n",
       "14035                              39.3                                11.351   \n",
       "14036                              37.8                                11.169   \n",
       "14037                              37.0                                10.999   \n",
       "14038                              36.0                                10.836   \n",
       "14039                              36.9                                10.676   \n",
       "14040                              36.5                                10.513   \n",
       "14041                              36.4                                10.344   \n",
       "\n",
       "       Death rate, crude (per 1,000 people)  \\\n",
       "13983                                13.180   \n",
       "13984                                12.853   \n",
       "13985                                12.534   \n",
       "13986                                12.226   \n",
       "13987                                11.929   \n",
       "13988                                11.639   \n",
       "13989                                11.346   \n",
       "13990                                11.046   \n",
       "13991                                10.733   \n",
       "13992                                10.408   \n",
       "13993                                10.072   \n",
       "13994                                 9.730   \n",
       "13995                                 9.390   \n",
       "13996                                 9.059   \n",
       "13997                                 8.741   \n",
       "13998                                 8.443   \n",
       "13999                                 8.171   \n",
       "14000                                 7.924   \n",
       "14001                                 7.698   \n",
       "14002                                 7.490   \n",
       "14003                                 7.289   \n",
       "14004                                 7.080   \n",
       "14005                                 6.855   \n",
       "14006                                 6.615   \n",
       "14007                                 6.367   \n",
       "14008                                 6.129   \n",
       "14009                                 5.923   \n",
       "14010                                 5.770   \n",
       "14011                                 5.682   \n",
       "14012                                 5.663   \n",
       "14013                                 5.707   \n",
       "14014                                 5.804   \n",
       "14015                                 5.932   \n",
       "14016                                 6.071   \n",
       "14017                                 6.211   \n",
       "14018                                 6.344   \n",
       "14019                                 6.465   \n",
       "14020                                 6.580   \n",
       "14021                                 6.688   \n",
       "14022                                 6.788   \n",
       "14023                                 6.877   \n",
       "14024                                 6.951   \n",
       "14025                                 7.012   \n",
       "14026                                 7.060   \n",
       "14027                                 7.097   \n",
       "14028                                 7.123   \n",
       "14029                                 7.141   \n",
       "14030                                 7.154   \n",
       "14031                                 7.164   \n",
       "14032                                 7.175   \n",
       "14033                                 7.191   \n",
       "14034                                 7.213   \n",
       "14035                                 7.241   \n",
       "14036                                 7.279   \n",
       "14037                                 7.327   \n",
       "14038                                 7.389   \n",
       "14039                                 7.467   \n",
       "14040                                 7.559   \n",
       "14041                                 7.666   \n",
       "\n",
       "       Suicide mortality rate (per 100,000 population)  \n",
       "13983                                              NaN  \n",
       "13984                                              NaN  \n",
       "13985                                              NaN  \n",
       "13986                                              NaN  \n",
       "13987                                              NaN  \n",
       "13988                                              NaN  \n",
       "13989                                              NaN  \n",
       "13990                                              NaN  \n",
       "13991                                              NaN  \n",
       "13992                                              NaN  \n",
       "13993                                              NaN  \n",
       "13994                                              NaN  \n",
       "13995                                              NaN  \n",
       "13996                                              NaN  \n",
       "13997                                              NaN  \n",
       "13998                                              NaN  \n",
       "13999                                              NaN  \n",
       "14000                                              NaN  \n",
       "14001                                              NaN  \n",
       "14002                                              NaN  \n",
       "14003                                              NaN  \n",
       "14004                                              NaN  \n",
       "14005                                              NaN  \n",
       "14006                                              NaN  \n",
       "14007                                              NaN  \n",
       "14008                                              NaN  \n",
       "14009                                              NaN  \n",
       "14010                                              NaN  \n",
       "14011                                              NaN  \n",
       "14012                                              NaN  \n",
       "14013                                              NaN  \n",
       "14014                                              NaN  \n",
       "14015                                              NaN  \n",
       "14016                                              NaN  \n",
       "14017                                              NaN  \n",
       "14018                                              NaN  \n",
       "14019                                              NaN  \n",
       "14020                                              NaN  \n",
       "14021                                              NaN  \n",
       "14022                                              NaN  \n",
       "14023                                             16.2  \n",
       "14024                                              NaN  \n",
       "14025                                              NaN  \n",
       "14026                                              NaN  \n",
       "14027                                              NaN  \n",
       "14028                                             12.7  \n",
       "14029                                              NaN  \n",
       "14030                                              NaN  \n",
       "14031                                              NaN  \n",
       "14032                                              NaN  \n",
       "14033                                             14.3  \n",
       "14034                                              NaN  \n",
       "14035                                              NaN  \n",
       "14036                                              NaN  \n",
       "14037                                              NaN  \n",
       "14038                                             14.6  \n",
       "14039                                             14.4  \n",
       "14040                                              NaN  \n",
       "14041                                              NaN  "
      ]
     },
     "execution_count": 150,
     "metadata": {},
     "output_type": "execute_result"
    }
   ],
   "source": [
    "# fitering just only Thailand\n",
    "df = data[data['country'] == country].copy()\n",
    "df"
   ]
  },
  {
   "cell_type": "code",
   "execution_count": 151,
   "id": "6f5b1dcb",
   "metadata": {},
   "outputs": [
    {
     "name": "stderr",
     "output_type": "stream",
     "text": [
      "/Users/kritchaitriyavanich/anaconda3/lib/python3.11/site-packages/seaborn/axisgrid.py:118: UserWarning: The figure layout has changed to tight\n",
      "  self._figure.tight_layout(*args, **kwargs)\n"
     ]
    },
    {
     "data": {
      "text/plain": [
       "<seaborn.axisgrid.FacetGrid at 0x14f691fd0>"
      ]
     },
     "execution_count": 151,
     "metadata": {},
     "output_type": "execute_result"
    },
    {
     "data": {
      "image/png": "[encoded data removed]",
      "text/plain": [
       "<Figure size 500x500 with 1 Axes>"
      ]
     },
     "metadata": {},
     "output_type": "display_data"
    }
   ],
   "source": [
    "# this indicated that if we use the simple linear regression to fit the model, it won't be able to predict!\n",
    "sns.lmplot(x=x_col, y=y_col, data=df, fit_reg=True,\n",
    "          scatter_kws={'alpha':.2, 'color': 'green'},\n",
    "          line_kws={'color':'salmon'})"
   ]
  },
  {
   "cell_type": "markdown",
   "id": "861b6270",
   "metadata": {},
   "source": [
    "## 1.2 sklearn"
   ]
  },
  {
   "cell_type": "code",
   "execution_count": 152,
   "id": "0c3440a6",
   "metadata": {},
   "outputs": [],
   "source": [
    "import sklearn as sk\n",
    "from sklearn.model_selection import train_test_split\n",
    "from sklearn.preprocessing import PolynomialFeatures\n",
    "from sklearn.linear_model import LinearRegression"
   ]
  },
  {
   "cell_type": "code",
   "execution_count": 153,
   "id": "257c3794",
   "metadata": {},
   "outputs": [
    {
     "name": "stdout",
     "output_type": "stream",
     "text": [
      "1.3.0\n"
     ]
    }
   ],
   "source": [
    "print(sk.__version__)"
   ]
  },
  {
   "cell_type": "code",
   "execution_count": 154,
   "id": "97362fe0",
   "metadata": {},
   "outputs": [],
   "source": [
    "# assigning x and y\n",
    "x = df[[x_col]]\n",
    "y = df[y_col]"
   ]
  },
  {
   "cell_type": "code",
   "execution_count": 155,
   "id": "601fac94",
   "metadata": {},
   "outputs": [],
   "source": [
    "test_size = .2\n",
    "x_train, x_test, y_train, y_test = train_test_split(x,y,\n",
    "                                                   test_size = test_size,\n",
    "                                                   random_state = 1)"
   ]
  },
  {
   "cell_type": "markdown",
   "id": "e5ddd7de",
   "metadata": {},
   "source": [
    "### 1.2.1 linear regression"
   ]
  },
  {
   "cell_type": "code",
   "execution_count": 156,
   "id": "d212cd22",
   "metadata": {},
   "outputs": [
    {
     "data": {
      "text/html": [
       "<style>#sk-container-id-8 {color: black;}#sk-container-id-8 pre{padding: 0;}#sk-container-id-8 div.sk-toggleable {background-color: white;}#sk-container-id-8 label.sk-toggleable__label {cursor: pointer;display: block;width: 100%;margin-bottom: 0;padding: 0.3em;box-sizing: border-box;text-align: center;}#sk-container-id-8 label.sk-toggleable__label-arrow:before {content: \"▸\";float: left;margin-right: 0.25em;color: #696969;}#sk-container-id-8 label.sk-toggleable__label-arrow:hover:before {color: black;}#sk-container-id-8 div.sk-estimator:hover label.sk-toggleable__label-arrow:before {color: black;}#sk-container-id-8 div.sk-toggleable__content {max-height: 0;max-width: 0;overflow: hidden;text-align: left;background-color: #f0f8ff;}#sk-container-id-8 div.sk-toggleable__content pre {margin: 0.2em;color: black;border-radius: 0.25em;background-color: #f0f8ff;}#sk-container-id-8 input.sk-toggleable__control:checked~div.sk-toggleable__content {max-height: 200px;max-width: 100%;overflow: auto;}#sk-container-id-8 input.sk-toggleable__control:checked~label.sk-toggleable__label-arrow:before {content: \"▾\";}#sk-container-id-8 div.sk-estimator input.sk-toggleable__control:checked~label.sk-toggleable__label {background-color: #d4ebff;}#sk-container-id-8 div.sk-label input.sk-toggleable__control:checked~label.sk-toggleable__label {background-color: #d4ebff;}#sk-container-id-8 input.sk-hidden--visually {border: 0;clip: rect(1px 1px 1px 1px);clip: rect(1px, 1px, 1px, 1px);height: 1px;margin: -1px;overflow: hidden;padding: 0;position: absolute;width: 1px;}#sk-container-id-8 div.sk-estimator {font-family: monospace;background-color: #f0f8ff;border: 1px dotted black;border-radius: 0.25em;box-sizing: border-box;margin-bottom: 0.5em;}#sk-container-id-8 div.sk-estimator:hover {background-color: #d4ebff;}#sk-container-id-8 div.sk-parallel-item::after {content: \"\";width: 100%;border-bottom: 1px solid gray;flex-grow: 1;}#sk-container-id-8 div.sk-label:hover label.sk-toggleable__label {background-color: #d4ebff;}#sk-container-id-8 div.sk-serial::before {content: \"\";position: absolute;border-left: 1px solid gray;box-sizing: border-box;top: 0;bottom: 0;left: 50%;z-index: 0;}#sk-container-id-8 div.sk-serial {display: flex;flex-direction: column;align-items: center;background-color: white;padding-right: 0.2em;padding-left: 0.2em;position: relative;}#sk-container-id-8 div.sk-item {position: relative;z-index: 1;}#sk-container-id-8 div.sk-parallel {display: flex;align-items: stretch;justify-content: center;background-color: white;position: relative;}#sk-container-id-8 div.sk-item::before, #sk-container-id-8 div.sk-parallel-item::before {content: \"\";position: absolute;border-left: 1px solid gray;box-sizing: border-box;top: 0;bottom: 0;left: 50%;z-index: -1;}#sk-container-id-8 div.sk-parallel-item {display: flex;flex-direction: column;z-index: 1;position: relative;background-color: white;}#sk-container-id-8 div.sk-parallel-item:first-child::after {align-self: flex-end;width: 50%;}#sk-container-id-8 div.sk-parallel-item:last-child::after {align-self: flex-start;width: 50%;}#sk-container-id-8 div.sk-parallel-item:only-child::after {width: 0;}#sk-container-id-8 div.sk-dashed-wrapped {border: 1px dashed gray;margin: 0 0.4em 0.5em 0.4em;box-sizing: border-box;padding-bottom: 0.4em;background-color: white;}#sk-container-id-8 div.sk-label label {font-family: monospace;font-weight: bold;display: inline-block;line-height: 1.2em;}#sk-container-id-8 div.sk-label-container {text-align: center;}#sk-container-id-8 div.sk-container {/* jupyter's `normalize.less` sets `[hidden] { display: none; }` but bootstrap.min.css set `[hidden] { display: none !important; }` so we also need the `!important` here to be able to override the default hidden behavior on the sphinx rendered scikit-learn.org. See: https://github.com/scikit-learn/scikit-learn/issues/21755 */display: inline-block !important;position: relative;}#sk-container-id-8 div.sk-text-repr-fallback {display: none;}</style><div id=\"sk-container-id-8\" class=\"sk-top-container\"><div class=\"sk-text-repr-fallback\"><pre>LinearRegression()</pre><b>In a Jupyter environment, please rerun this cell to show the HTML representation or trust the notebook. <br />On GitHub, the HTML representation is unable to render, please try loading this page with nbviewer.org.</b></div><div class=\"sk-container\" hidden><div class=\"sk-item\"><div class=\"sk-estimator sk-toggleable\"><input class=\"sk-toggleable__control sk-hidden--visually\" id=\"sk-estimator-id-8\" type=\"checkbox\" checked><label for=\"sk-estimator-id-8\" class=\"sk-toggleable__label sk-toggleable__label-arrow\">LinearRegression</label><div class=\"sk-toggleable__content\"><pre>LinearRegression()</pre></div></div></div></div></div>"
      ],
      "text/plain": [
       "LinearRegression()"
      ]
     },
     "execution_count": 156,
     "metadata": {},
     "output_type": "execute_result"
    }
   ],
   "source": [
    "lm = LinearRegression()\n",
    "lm.fit(x_train, y_train)"
   ]
  },
  {
   "cell_type": "code",
   "execution_count": 157,
   "id": "73fff00d",
   "metadata": {},
   "outputs": [
    {
     "data": {
      "text/plain": [
       "0.43530526225578425"
      ]
     },
     "execution_count": 157,
     "metadata": {},
     "output_type": "execute_result"
    }
   ],
   "source": [
    "lm.score(x_train, y_train)"
   ]
  },
  {
   "cell_type": "code",
   "execution_count": 158,
   "id": "974fa4bf",
   "metadata": {},
   "outputs": [
    {
     "data": {
      "text/plain": [
       "array([-0.07661316])"
      ]
     },
     "execution_count": 158,
     "metadata": {},
     "output_type": "execute_result"
    }
   ],
   "source": [
    "lm.coef_"
   ]
  },
  {
   "cell_type": "code",
   "execution_count": 159,
   "id": "b6dae6fb",
   "metadata": {},
   "outputs": [
    {
     "data": {
      "text/plain": [
       "160.27616227662952"
      ]
     },
     "execution_count": 159,
     "metadata": {},
     "output_type": "execute_result"
    }
   ],
   "source": [
    "lm.intercept_"
   ]
  },
  {
   "cell_type": "code",
   "execution_count": 160,
   "id": "ce7d8148",
   "metadata": {},
   "outputs": [
    {
     "data": {
      "text/plain": [
       "0.5856015176097795"
      ]
     },
     "execution_count": 160,
     "metadata": {},
     "output_type": "execute_result"
    }
   ],
   "source": [
    "# try to find score using test data instead\n",
    "lm.score(x_test, y_test)"
   ]
  },
  {
   "cell_type": "code",
   "execution_count": 161,
   "id": "77d42d89",
   "metadata": {},
   "outputs": [
    {
     "data": {
      "image/png": "[encoded data removed]",
      "text/plain": [
       "<Figure size 1000x600 with 1 Axes>"
      ]
     },
     "metadata": {},
     "output_type": "display_data"
    }
   ],
   "source": [
    "fig = plt.figure(figsize=(10,6)) # just setting the width and height of showing graph\n",
    "plt.scatter(x,y,color='green', alpha=.2)\n",
    "plt.plot(x,lm.predict(x), color='red', alpha = .5)\n",
    "plt.title('Linear Regression')\n",
    "plt.xlabel(x_col)\n",
    "plt.ylabel(y_col)\n",
    "plt.show()"
   ]
  },
  {
   "cell_type": "code",
   "execution_count": 162,
   "id": "9db45fdd",
   "metadata": {},
   "outputs": [
    {
     "name": "stderr",
     "output_type": "stream",
     "text": [
      "/Users/kritchaitriyavanich/anaconda3/lib/python3.11/site-packages/sklearn/base.py:464: UserWarning: X does not have valid feature names, but LinearRegression was fitted with feature names\n",
      "  warnings.warn(\n"
     ]
    },
    {
     "data": {
      "text/plain": [
       "array([7.81597278, 5.44096481])"
      ]
     },
     "execution_count": 162,
     "metadata": {},
     "output_type": "execute_result"
    }
   ],
   "source": [
    "lm.predict([[1990],[2021]])"
   ]
  },
  {
   "cell_type": "markdown",
   "id": "0ad072c7",
   "metadata": {},
   "source": [
    "### 1.2.2 ploynomial regression"
   ]
  },
  {
   "cell_type": "code",
   "execution_count": 163,
   "id": "bcaa7aee",
   "metadata": {},
   "outputs": [],
   "source": [
    "poly_reg = PolynomialFeatures(degree=2) # assigning max degree = 2"
   ]
  },
  {
   "cell_type": "code",
   "execution_count": 164,
   "id": "21f328cc",
   "metadata": {},
   "outputs": [
    {
     "data": {
      "text/plain": [
       "array([[1.0000e+00, 1.9900e+03, 3.9601e+06]])"
      ]
     },
     "execution_count": 164,
     "metadata": {},
     "output_type": "execute_result"
    }
   ],
   "source": [
    "poly_reg.fit_transform([[1990]]) # like we getting x^0,x^1,x^2 out as we will assign these values to fit the model"
   ]
  },
  {
   "cell_type": "code",
   "execution_count": 165,
   "id": "35b79e57",
   "metadata": {},
   "outputs": [
    {
     "data": {
      "text/html": [
       "<div>\n",
       "<style scoped>\n",
       "    .dataframe tbody tr th:only-of-type {\n",
       "        vertical-align: middle;\n",
       "    }\n",
       "\n",
       "    .dataframe tbody tr th {\n",
       "        vertical-align: top;\n",
       "    }\n",
       "\n",
       "    .dataframe thead th {\n",
       "        text-align: right;\n",
       "    }\n",
       "</style>\n",
       "<table border=\"1\" class=\"dataframe\">\n",
       "  <thead>\n",
       "    <tr style=\"text-align: right;\">\n",
       "      <th></th>\n",
       "      <th>year</th>\n",
       "    </tr>\n",
       "  </thead>\n",
       "  <tbody>\n",
       "    <tr>\n",
       "      <th>14019</th>\n",
       "      <td>1996</td>\n",
       "    </tr>\n",
       "    <tr>\n",
       "      <th>14023</th>\n",
       "      <td>2000</td>\n",
       "    </tr>\n",
       "    <tr>\n",
       "      <th>14007</th>\n",
       "      <td>1984</td>\n",
       "    </tr>\n",
       "  </tbody>\n",
       "</table>\n",
       "</div>"
      ],
      "text/plain": [
       "       year\n",
       "14019  1996\n",
       "14023  2000\n",
       "14007  1984"
      ]
     },
     "execution_count": 165,
     "metadata": {},
     "output_type": "execute_result"
    }
   ],
   "source": [
    "x_train[:3]"
   ]
  },
  {
   "cell_type": "code",
   "execution_count": 166,
   "id": "a1fc8afb",
   "metadata": {},
   "outputs": [],
   "source": [
    "# converting normal array of Xs into polynomial max degree 2 by fit_transform to further transform the shape\n",
    "x_train_poly = poly_reg.fit_transform(x_train)\n",
    "x_test_poly = poly_reg.fit_transform(x_test)"
   ]
  },
  {
   "cell_type": "code",
   "execution_count": 167,
   "id": "7b14c6fc",
   "metadata": {},
   "outputs": [
    {
     "data": {
      "text/plain": [
       "array([[1.000000e+00, 1.996000e+03, 3.984016e+06],\n",
       "       [1.000000e+00, 2.000000e+03, 4.000000e+06],\n",
       "       [1.000000e+00, 1.984000e+03, 3.936256e+06],\n",
       "       [1.000000e+00, 1.970000e+03, 3.880900e+06],\n",
       "       [1.000000e+00, 2.011000e+03, 4.044121e+06],\n",
       "       [1.000000e+00, 1.986000e+03, 3.944196e+06],\n",
       "       [1.000000e+00, 2.015000e+03, 4.060225e+06],\n",
       "       [1.000000e+00, 1.990000e+03, 3.960100e+06],\n",
       "       [1.000000e+00, 2.001000e+03, 4.004001e+06],\n",
       "       [1.000000e+00, 2.008000e+03, 4.032064e+06],\n",
       "       [1.000000e+00, 1.987000e+03, 3.948169e+06],\n",
       "       [1.000000e+00, 2.006000e+03, 4.024036e+06],\n",
       "       [1.000000e+00, 2.017000e+03, 4.068289e+06],\n",
       "       [1.000000e+00, 1.991000e+03, 3.964081e+06],\n",
       "       [1.000000e+00, 1.973000e+03, 3.892729e+06],\n",
       "       [1.000000e+00, 1.982000e+03, 3.928324e+06],\n",
       "       [1.000000e+00, 2.010000e+03, 4.040100e+06],\n",
       "       [1.000000e+00, 1.992000e+03, 3.968064e+06],\n",
       "       [1.000000e+00, 1.977000e+03, 3.908529e+06],\n",
       "       [1.000000e+00, 2.014000e+03, 4.056196e+06],\n",
       "       [1.000000e+00, 1.993000e+03, 3.972049e+06],\n",
       "       [1.000000e+00, 1.983000e+03, 3.932289e+06],\n",
       "       [1.000000e+00, 1.964000e+03, 3.857296e+06],\n",
       "       [1.000000e+00, 1.974000e+03, 3.896676e+06],\n",
       "       [1.000000e+00, 1.989000e+03, 3.956121e+06],\n",
       "       [1.000000e+00, 1.988000e+03, 3.952144e+06],\n",
       "       [1.000000e+00, 2.013000e+03, 4.052169e+06],\n",
       "       [1.000000e+00, 2.002000e+03, 4.008004e+06],\n",
       "       [1.000000e+00, 1.978000e+03, 3.912484e+06],\n",
       "       [1.000000e+00, 2.018000e+03, 4.072324e+06],\n",
       "       [1.000000e+00, 1.980000e+03, 3.920400e+06],\n",
       "       [1.000000e+00, 1.985000e+03, 3.940225e+06],\n",
       "       [1.000000e+00, 1.966000e+03, 3.865156e+06],\n",
       "       [1.000000e+00, 2.005000e+03, 4.020025e+06],\n",
       "       [1.000000e+00, 1.967000e+03, 3.869089e+06],\n",
       "       [1.000000e+00, 2.016000e+03, 4.064256e+06],\n",
       "       [1.000000e+00, 1.961000e+03, 3.845521e+06],\n",
       "       [1.000000e+00, 1.976000e+03, 3.904576e+06],\n",
       "       [1.000000e+00, 1.960000e+03, 3.841600e+06],\n",
       "       [1.000000e+00, 1.975000e+03, 3.900625e+06],\n",
       "       [1.000000e+00, 1.965000e+03, 3.861225e+06],\n",
       "       [1.000000e+00, 1.971000e+03, 3.884841e+06],\n",
       "       [1.000000e+00, 1.969000e+03, 3.876961e+06],\n",
       "       [1.000000e+00, 1.968000e+03, 3.873024e+06],\n",
       "       [1.000000e+00, 1.972000e+03, 3.888784e+06],\n",
       "       [1.000000e+00, 2.003000e+03, 4.012009e+06],\n",
       "       [1.000000e+00, 1.997000e+03, 3.988009e+06]])"
      ]
     },
     "execution_count": 167,
     "metadata": {},
     "output_type": "execute_result"
    }
   ],
   "source": [
    "x_train_poly"
   ]
  },
  {
   "cell_type": "code",
   "execution_count": 168,
   "id": "fc8466e0",
   "metadata": {},
   "outputs": [
    {
     "data": {
      "text/html": [
       "<style>#sk-container-id-9 {color: black;}#sk-container-id-9 pre{padding: 0;}#sk-container-id-9 div.sk-toggleable {background-color: white;}#sk-container-id-9 label.sk-toggleable__label {cursor: pointer;display: block;width: 100%;margin-bottom: 0;padding: 0.3em;box-sizing: border-box;text-align: center;}#sk-container-id-9 label.sk-toggleable__label-arrow:before {content: \"▸\";float: left;margin-right: 0.25em;color: #696969;}#sk-container-id-9 label.sk-toggleable__label-arrow:hover:before {color: black;}#sk-container-id-9 div.sk-estimator:hover label.sk-toggleable__label-arrow:before {color: black;}#sk-container-id-9 div.sk-toggleable__content {max-height: 0;max-width: 0;overflow: hidden;text-align: left;background-color: #f0f8ff;}#sk-container-id-9 div.sk-toggleable__content pre {margin: 0.2em;color: black;border-radius: 0.25em;background-color: #f0f8ff;}#sk-container-id-9 input.sk-toggleable__control:checked~div.sk-toggleable__content {max-height: 200px;max-width: 100%;overflow: auto;}#sk-container-id-9 input.sk-toggleable__control:checked~label.sk-toggleable__label-arrow:before {content: \"▾\";}#sk-container-id-9 div.sk-estimator input.sk-toggleable__control:checked~label.sk-toggleable__label {background-color: #d4ebff;}#sk-container-id-9 div.sk-label input.sk-toggleable__control:checked~label.sk-toggleable__label {background-color: #d4ebff;}#sk-container-id-9 input.sk-hidden--visually {border: 0;clip: rect(1px 1px 1px 1px);clip: rect(1px, 1px, 1px, 1px);height: 1px;margin: -1px;overflow: hidden;padding: 0;position: absolute;width: 1px;}#sk-container-id-9 div.sk-estimator {font-family: monospace;background-color: #f0f8ff;border: 1px dotted black;border-radius: 0.25em;box-sizing: border-box;margin-bottom: 0.5em;}#sk-container-id-9 div.sk-estimator:hover {background-color: #d4ebff;}#sk-container-id-9 div.sk-parallel-item::after {content: \"\";width: 100%;border-bottom: 1px solid gray;flex-grow: 1;}#sk-container-id-9 div.sk-label:hover label.sk-toggleable__label {background-color: #d4ebff;}#sk-container-id-9 div.sk-serial::before {content: \"\";position: absolute;border-left: 1px solid gray;box-sizing: border-box;top: 0;bottom: 0;left: 50%;z-index: 0;}#sk-container-id-9 div.sk-serial {display: flex;flex-direction: column;align-items: center;background-color: white;padding-right: 0.2em;padding-left: 0.2em;position: relative;}#sk-container-id-9 div.sk-item {position: relative;z-index: 1;}#sk-container-id-9 div.sk-parallel {display: flex;align-items: stretch;justify-content: center;background-color: white;position: relative;}#sk-container-id-9 div.sk-item::before, #sk-container-id-9 div.sk-parallel-item::before {content: \"\";position: absolute;border-left: 1px solid gray;box-sizing: border-box;top: 0;bottom: 0;left: 50%;z-index: -1;}#sk-container-id-9 div.sk-parallel-item {display: flex;flex-direction: column;z-index: 1;position: relative;background-color: white;}#sk-container-id-9 div.sk-parallel-item:first-child::after {align-self: flex-end;width: 50%;}#sk-container-id-9 div.sk-parallel-item:last-child::after {align-self: flex-start;width: 50%;}#sk-container-id-9 div.sk-parallel-item:only-child::after {width: 0;}#sk-container-id-9 div.sk-dashed-wrapped {border: 1px dashed gray;margin: 0 0.4em 0.5em 0.4em;box-sizing: border-box;padding-bottom: 0.4em;background-color: white;}#sk-container-id-9 div.sk-label label {font-family: monospace;font-weight: bold;display: inline-block;line-height: 1.2em;}#sk-container-id-9 div.sk-label-container {text-align: center;}#sk-container-id-9 div.sk-container {/* jupyter's `normalize.less` sets `[hidden] { display: none; }` but bootstrap.min.css set `[hidden] { display: none !important; }` so we also need the `!important` here to be able to override the default hidden behavior on the sphinx rendered scikit-learn.org. See: https://github.com/scikit-learn/scikit-learn/issues/21755 */display: inline-block !important;position: relative;}#sk-container-id-9 div.sk-text-repr-fallback {display: none;}</style><div id=\"sk-container-id-9\" class=\"sk-top-container\"><div class=\"sk-text-repr-fallback\"><pre>LinearRegression()</pre><b>In a Jupyter environment, please rerun this cell to show the HTML representation or trust the notebook. <br />On GitHub, the HTML representation is unable to render, please try loading this page with nbviewer.org.</b></div><div class=\"sk-container\" hidden><div class=\"sk-item\"><div class=\"sk-estimator sk-toggleable\"><input class=\"sk-toggleable__control sk-hidden--visually\" id=\"sk-estimator-id-9\" type=\"checkbox\" checked><label for=\"sk-estimator-id-9\" class=\"sk-toggleable__label sk-toggleable__label-arrow\">LinearRegression</label><div class=\"sk-toggleable__content\"><pre>LinearRegression()</pre></div></div></div></div></div>"
      ],
      "text/plain": [
       "LinearRegression()"
      ]
     },
     "execution_count": 168,
     "metadata": {},
     "output_type": "execute_result"
    }
   ],
   "source": [
    "pm = LinearRegression()\n",
    "pm.fit(x_train_poly, y_train)"
   ]
  },
  {
   "cell_type": "code",
   "execution_count": 169,
   "id": "3227a388",
   "metadata": {},
   "outputs": [
    {
     "data": {
      "text/plain": [
       "0.944828294936676"
      ]
     },
     "execution_count": 169,
     "metadata": {},
     "output_type": "execute_result"
    }
   ],
   "source": [
    "pm.score(x_train_poly, y_train) # higher R-squared from normal"
   ]
  },
  {
   "cell_type": "code",
   "execution_count": 170,
   "id": "63e941de",
   "metadata": {},
   "outputs": [
    {
     "data": {
      "text/plain": [
       "0.43530526225578425"
      ]
     },
     "execution_count": 170,
     "metadata": {},
     "output_type": "execute_result"
    }
   ],
   "source": [
    "lm.fit(x_train,y_train)\n",
    "lm.score(x_train,y_train) # much lower score than those fitted with the polynomial type"
   ]
  },
  {
   "cell_type": "code",
   "execution_count": 171,
   "id": "4d559c12",
   "metadata": {},
   "outputs": [
    {
     "data": {
      "text/plain": [
       "array([ 0.00000000e+00, -2.16491346e+01,  5.42121601e-03])"
      ]
     },
     "execution_count": 171,
     "metadata": {},
     "output_type": "execute_result"
    }
   ],
   "source": [
    "pm.coef_"
   ]
  },
  {
   "cell_type": "code",
   "execution_count": 172,
   "id": "77ac253e",
   "metadata": {},
   "outputs": [
    {
     "data": {
      "text/plain": [
       "21619.435397578436"
      ]
     },
     "execution_count": 172,
     "metadata": {},
     "output_type": "execute_result"
    }
   ],
   "source": [
    "pm.intercept_"
   ]
  },
  {
   "cell_type": "code",
   "execution_count": 173,
   "id": "cb9f4d0e",
   "metadata": {},
   "outputs": [
    {
     "name": "stdout",
     "output_type": "stream",
     "text": [
      "Thai death rate per 1000 people = \n"
     ]
    },
    {
     "data": {
      "text/plain": [
       "5.974124829557695"
      ]
     },
     "execution_count": 173,
     "metadata": {},
     "output_type": "execute_result"
    }
   ],
   "source": [
    "print('Thai death rate per 1000 people = ')\n",
    "pm.intercept_+sum((pm.coef_ * x_train_poly[0]))\n",
    "# mimicking the regression equation to find the specific number of y_hat from our model"
   ]
  },
  {
   "cell_type": "code",
   "execution_count": 174,
   "id": "5f81ef9f",
   "metadata": {},
   "outputs": [
    {
     "data": {
      "text/plain": [
       "array([5.97412483, 6.0303033 , 6.84646291])"
      ]
     },
     "execution_count": 174,
     "metadata": {},
     "output_type": "execute_result"
    }
   ],
   "source": [
    "# or predicting by \n",
    "pm.predict(x_train_poly[:3])"
   ]
  },
  {
   "cell_type": "code",
   "execution_count": 175,
   "id": "053257ce",
   "metadata": {},
   "outputs": [
    {
     "data": {
      "text/plain": [
       "array([5.97412483])"
      ]
     },
     "execution_count": 175,
     "metadata": {},
     "output_type": "execute_result"
    }
   ],
   "source": [
    "# or we just wanted to pass the year manually\n",
    "pm.predict(poly_reg.fit_transform([[1996]]))"
   ]
  },
  {
   "cell_type": "code",
   "execution_count": 176,
   "id": "afdaf847",
   "metadata": {},
   "outputs": [],
   "source": [
    "# or we manually coding the predict by\n",
    "def predict(intercept, coef, x):\n",
    "    v = intercept\n",
    "    for p in range(len(coef)):\n",
    "        v += x ** p * coef[p]\n",
    "    return v"
   ]
  },
  {
   "cell_type": "code",
   "execution_count": 177,
   "id": "8f7b6aa0",
   "metadata": {},
   "outputs": [
    {
     "data": {
      "text/plain": [
       "5.974124829557695"
      ]
     },
     "execution_count": 177,
     "metadata": {},
     "output_type": "execute_result"
    }
   ],
   "source": [
    "predict(pm.intercept_,pm.coef_,1996)"
   ]
  },
  {
   "cell_type": "code",
   "execution_count": 178,
   "id": "4c001dea",
   "metadata": {},
   "outputs": [
    {
     "data": {
      "text/plain": [
       "Text(0.5, 1.0, 'polynomial regression')"
      ]
     },
     "execution_count": 178,
     "metadata": {},
     "output_type": "execute_result"
    },
    {
     "data": {
      "image/png": "[encoded data removed]",
      "text/plain": [
       "<Figure size 1000x600 with 1 Axes>"
      ]
     },
     "metadata": {},
     "output_type": "display_data"
    }
   ],
   "source": [
    "# visualizing our model\n",
    "fig = plt.figure(figsize=(10,6))\n",
    "plt.scatter(x,y, color='green', alpha = .2)\n",
    "plt.plot(x, pm.predict(poly_reg.fit_transform(x)), color = 'red', alpha = .5)\n",
    "# we could see that the curve tends to match the actual data\n",
    "plt.title('polynomial regression')"
   ]
  },
  {
   "cell_type": "code",
   "execution_count": 180,
   "id": "7bfb17b5",
   "metadata": {},
   "outputs": [
    {
     "data": {
      "image/png": "[encoded data removed]",
      "text/plain": [
       "<Figure size 1600x500 with 2 Axes>"
      ]
     },
     "metadata": {},
     "output_type": "display_data"
    }
   ],
   "source": [
    "# using subplot to plot the data\n",
    "fig = plt.figure(figsize=(8*2, 5)) # *2 indicate 2 graphs\n",
    "d = {'Linear Regression': lm.predict(x),\n",
    "    'Polynomial Regression': pm.predict(poly_reg.fit_transform(x))}\n",
    "i = 1\n",
    "for title, y_pred in d.items():\n",
    "    fig.add_subplot(1,2,i)\n",
    "    plt.scatter(x,y,color='green',alpha=.2)\n",
    "    plt.plot(x,y_pred, color='red', alpha = .5)\n",
    "    plt.title(title)\n",
    "    plt.xlabel(x_col)\n",
    "    plt.ylabel(y_col)\n",
    "    i+=1"
   ]
  }
 ],
 "metadata": {
  "kernelspec": {
   "display_name": "Python 3 (ipykernel)",
   "language": "python",
   "name": "python3"
  },
  "language_info": {
   "codemirror_mode": {
    "name": "ipython",
    "version": 3
   },
   "file_extension": ".py",
   "mimetype": "text/x-python",
   "name": "python",
   "nbconvert_exporter": "python",
   "pygments_lexer": "ipython3",
   "version": "3.11.5"
  }
 },
 "nbformat": 4,
 "nbformat_minor": 5
}
